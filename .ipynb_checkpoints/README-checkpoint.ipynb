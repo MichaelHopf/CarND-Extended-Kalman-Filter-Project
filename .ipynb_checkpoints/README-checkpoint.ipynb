{
 "cells": [
  {
   "cell_type": "markdown",
   "metadata": {},
   "source": [
    "# Extented Kalman Filter"
   ]
  },
  {
   "cell_type": "markdown",
   "metadata": {},
   "source": [
    "In this project, I implemented an __Extended Kalman Filter__ in C++ that receives Lidar and Radar input data to estimate an object's position and velocity in the plane.\n",
    "\n",
    "My submissions includes the following files:\n",
    "\n",
    "- __kalman_filter.cpp__: Implementation of the prediction step, the Kalman Update step for Lidar data, and the Extended Update step for Radar data (nonlinear transformation of the data into the measurement space and performing a Kalman Update with the linear approximation of that transformation, i.e., its Jacobian matrix).\n",
    "- __FusionEKF.cpp__:Initialization of process and measurement noises. Update of the process noise covariance matrix.\n",
    "- __tools.cpp__: Calculation of the root mean squared error compared to the ground truth. Functions that calculates the Jacobian matrix."
   ]
  },
  {
   "cell_type": "markdown",
   "metadata": {},
   "source": [
    "![alt text](./pic.PNG \"Extended Kalman Filter\")"
   ]
  },
  {
   "cell_type": "markdown",
   "metadata": {},
   "source": [
    "## Project Specifications"
   ]
  },
  {
   "cell_type": "markdown",
   "metadata": {},
   "source": [
    "In the following, I will address all rubric points."
   ]
  },
  {
   "cell_type": "markdown",
   "metadata": {},
   "source": [
    "### Compiling\n",
    "\n",
    "My operating system is Windows 10. I used _Bash on Ubuntu on Windows_. All coding was done in C++. The code compliles without errors."
   ]
  },
  {
   "cell_type": "markdown",
   "metadata": {},
   "source": [
    "### Accuracy\n",
    "\n",
    "To meet the specifications, the RMSE of [px, py,vx, vy] must be lower or equal to [.11, .11, .52, .52] on the first dataset. The following table shows my results:\n",
    "\n",
    "| Used sensors | Dataset | RMSE |\n",
    "| :------------: | :-------: | ----: |\n",
    "| both | 1 | .098 .085 .409 .47 |\n",
    "| lidar | 1 | .098 .085 .41 .47 |\n",
    "| radar | 1 | .095 .087 .37 .47 |\n",
    "|both | 2 | .073 .097 .449 .464 |\n",
    "| lidar | 2 | .078 .099 .5 .484 |\n",
    "| radar | 2 | .073 .097 .45 .464 |\n"
   ]
  },
  {
   "cell_type": "markdown",
   "metadata": {},
   "source": [
    "### Correct Algorithm\n",
    "\n",
    "I implemented the Extended Kalman filter in the .cpp files mentioned above. In particular, I implemented the initialization and the update steps for both sensors."
   ]
  },
  {
   "cell_type": "markdown",
   "metadata": {},
   "source": [
    "### Code Efficiency\n",
    "\n",
    "For all calculations, I stored all values that are reused in separate variables. This increases the memory amount used but the speed of the algorithm benefits. This is important since these algorithms have to run in real-time."
   ]
  },
  {
   "cell_type": "markdown",
   "metadata": {},
   "source": [
    "## Discussion\n",
    "\n",
    "From both datasets we can see that one sensor seems to be enough be achieve good results. All experiments showed similar results with the radar sensor giving slightly better measurements than the lidar data."
   ]
  }
 ],
 "metadata": {
  "kernelspec": {
   "display_name": "Python 3",
   "language": "python",
   "name": "python3"
  },
  "language_info": {
   "codemirror_mode": {
    "name": "ipython",
    "version": 3
   },
   "file_extension": ".py",
   "mimetype": "text/x-python",
   "name": "python",
   "nbconvert_exporter": "python",
   "pygments_lexer": "ipython3",
   "version": "3.5.2"
  },
  "widgets": {
   "state": {},
   "version": "1.1.2"
  }
 },
 "nbformat": 4,
 "nbformat_minor": 2
}
